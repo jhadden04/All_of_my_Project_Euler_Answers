{
  "nbformat": 4,
  "nbformat_minor": 0,
  "metadata": {
    "colab": {
      "name": "project euler.ipynb",
      "provenance": []
    },
    "kernelspec": {
      "display_name": "Python 3",
      "name": "python3"
    },
    "language_info": {
      "name": "python"
    }
  },
  "cells": [
    {
      "cell_type": "code",
      "metadata": {
        "id": "8KcwLMifTGHt"
      },
      "source": [
        "\n",
        "# Python Program to find the factors of a number\n",
        "\n",
        "# This function computes the factor of the argument passed\n",
        "from itertools import chain, cycle, accumulate  # last of which is Python 3 only\n",
        "\n",
        "\n",
        "def factors(n):\n",
        "    def prime_powers(n):\n",
        "        # c goes through 2, 3, 5, then the infinite (6n+1, 6n+5) series\n",
        "        for c in accumulate(chain([2, 1, 2], cycle([2, 4]))):\n",
        "            if c * c > n: break\n",
        "            if n % c: continue\n",
        "            d, p = (), c\n",
        "            while not n % c:\n",
        "                n, p, d = n // c, p * c, d + (p,)\n",
        "            yield (d)\n",
        "        if n > 1: yield ((n,))\n",
        "\n",
        "    r = [1]\n",
        "    for e in prime_powers(n):\n",
        "        r += [a * b for a in r for b in e]\n",
        "    return len(r)\n",
        "n= 0\n",
        "number = 0\n",
        "triangle_number= []\n",
        "for i in range(1000000):\n",
        "    number = number + i\n",
        "    triangle_number.append(number)\n",
        "\n",
        "print(triangle_number)\n",
        "#for i in range(len(triangle_number)):\n",
        "#print(factors(triangle_number[i]))\n",
        "\n",
        "while (factors(triangle_number[n])) <=500:\n",
        "    # print(print_factors(triangle_number[n]))\n",
        "    n+=1\n",
        "print(n)\n",
        "print(triangle_number[n])"
      ],
      "execution_count": null,
      "outputs": []
    },
    {
      "cell_type": "code",
      "metadata": {
        "colab": {
          "base_uri": "https://localhost:8080/"
        },
        "id": "FdnD0Xmag-co",
        "outputId": "49fcfcbf-6638-4438-af07-90eb92828df1"
      },
      "source": [
        "# multiples of 3s and 5s under 1000\n",
        "total = 0\n",
        "for i in range(1000):\n",
        "  if i % 3 == 0 or i % 5 == 0:\n",
        "    total += i\n",
        "\n",
        "\n",
        "print(total)"
      ],
      "execution_count": null,
      "outputs": [
        {
          "name": "stdout",
          "output_type": "stream",
          "text": [
            "233168\n"
          ]
        }
      ]
    },
    {
      "cell_type": "code",
      "metadata": {
        "colab": {
          "base_uri": "https://localhost:8080/"
        },
        "id": "9hfWAvfdjkaa",
        "outputId": "99fc6da0-eb2c-4a7c-bfb4-ae1242394704"
      },
      "source": [
        "# even numbered fibonacci under 4 million\n",
        "\n",
        "def fibonacci(limit):\n",
        "  n = 0\n",
        "  fibonacci_sequence = [1,1]\n",
        "  while fibonacci_sequence[n] < limit:\n",
        "    fibonacci_sequence.append(fibonacci_sequence[n+1] + fibonacci_sequence[n])\n",
        "    n += 1\n",
        "\n",
        "  return fibonacci_sequence\n",
        "  \n",
        "\n",
        "total = 0\n",
        "fib = (fibonacci(4000000))\n",
        "print(fib)\n",
        "del fib[-1]\n",
        "del fib[-1]\n",
        "print(fib)\n",
        "for i in range(len(fib)):\n",
        "  if fib[i] % 2 == 0:\n",
        "    total += fib[i]\n",
        "\n",
        "print(total)\n",
        "# took far too long 20mins +"
      ],
      "execution_count": null,
      "outputs": [
        {
          "name": "stdout",
          "output_type": "stream",
          "text": [
            "[1, 1, 2, 3, 5, 8, 13, 21, 34, 55, 89, 144, 233, 377, 610, 987, 1597, 2584, 4181, 6765, 10946, 17711, 28657, 46368, 75025, 121393, 196418, 317811, 514229, 832040, 1346269, 2178309, 3524578, 5702887, 9227465]\n",
            "[1, 1, 2, 3, 5, 8, 13, 21, 34, 55, 89, 144, 233, 377, 610, 987, 1597, 2584, 4181, 6765, 10946, 17711, 28657, 46368, 75025, 121393, 196418, 317811, 514229, 832040, 1346269, 2178309, 3524578]\n",
            "4613732\n"
          ]
        }
      ]
    },
    {
      "cell_type": "code",
      "metadata": {
        "colab": {
          "base_uri": "https://localhost:8080/"
        },
        "id": "9WiN0hC9ps7u",
        "outputId": "fd76d108-c404-45bc-df7d-c5b0b708253b"
      },
      "source": [
        "import math\n",
        "def prime_checker(num):\n",
        "  prime = True\n",
        "  for i in range(num):\n",
        "    if i == 0:\n",
        "      continue\n",
        "    \n",
        "    if num % i == 0 and i != 1 and i != num :\n",
        "      #print(num)\n",
        "      prime = False\n",
        "      return prime\n",
        "      break\n",
        "    else:\n",
        "      continue\n",
        "  if prime == True:\n",
        "    return prime\n",
        "    \n",
        "# print(prime_checker(11))\n",
        "\n",
        "def factors_generator(num):\n",
        "  factors = []\n",
        "  for i in range(num):\n",
        "    if i == 0:\n",
        "      continue\n",
        "    if num % i == 0:\n",
        "      factors.append(i)\n",
        "  factors.append(num)  \n",
        "  return factors\n",
        "\n",
        "import cypari\n",
        "def get_divisors(n):\n",
        "   divisors = cypari.pari('divisors({})'.format(n))\n",
        "   return divisors\n",
        "\n",
        "factors = get_divisors(600851475143)\n",
        "biggest_prime = 0\n",
        "for i in range(len(factors)):\n",
        "  if prime_checker(factors[i]) == True and factors[i] > biggest_prime:\n",
        "    biggest_prime = factors[i]\n",
        "\n",
        "print(biggest_prime)"
      ],
      "execution_count": null,
      "outputs": [
        {
          "name": "stdout",
          "output_type": "stream",
          "text": [
            "6857\n"
          ]
        }
      ]
    },
    {
      "cell_type": "code",
      "metadata": {
        "colab": {
          "base_uri": "https://localhost:8080/"
        },
        "id": "ZboZmpMKv69H",
        "outputId": "a0fdcfab-a659-448a-cc2e-dba3ba7e1864"
      },
      "source": [
        "# largest palindrome product\n",
        "def check_palindrome(num):\n",
        "  palindrome = True\n",
        "\n",
        "  if len(str(num)) % 2 == 0:\n",
        "    for i in range(int(int(len(str(num)))/2)):\n",
        "      if str(num)[i] != str(num)[-(i+1)]:\n",
        "        palindrome = False\n",
        "        break\n",
        "  else:\n",
        "    for i in range(int((int(len(str(num)))/2)-0.5)):\n",
        "      if str(num)[i] != str(num)[-(i+1)]:\n",
        "        palindrome = False\n",
        "        break\n",
        "\n",
        "  return palindrome\n",
        "largest = []\n",
        "for i in range(100000):\n",
        "  if check_palindrome(i+900000) == True:\n",
        "    largest.append(i+900000)\n",
        "\n",
        "n = 0\n",
        "for a in range(999, 100, -1):\n",
        "    for b in range(a, 100, -1):\n",
        "        x = a * b\n",
        "        if x > n:\n",
        "          if check_palindrome(x):\n",
        "            n = x\n",
        "print(n) \n",
        "  "
      ],
      "execution_count": null,
      "outputs": [
        {
          "name": "stdout",
          "output_type": "stream",
          "text": [
            "906609\n"
          ]
        }
      ]
    },
    {
      "cell_type": "code",
      "metadata": {
        "colab": {
          "base_uri": "https://localhost:8080/"
        },
        "id": "ggN0J2hV25e0",
        "outputId": "df84a518-5534-4f28-f076-dad3ba561f6e"
      },
      "source": [
        "#smallest number to be divisible by 20 to 1\n",
        "def divisible_by_all(limit):\n",
        "  n = 1\n",
        "  while True:\n",
        "    divisible = True\n",
        "    for i in range(limit):\n",
        "      if n % (i+1) == 0:\n",
        "        continue\n",
        "      else:\n",
        "        divisible = False\n",
        "        break\n",
        "    if divisible == True:\n",
        "      print(n)\n",
        "      break\n",
        "    else:\n",
        "      n += 1\n",
        "      continue\n",
        "print(divisible_by_all(17))"
      ],
      "execution_count": null,
      "outputs": [
        {
          "name": "stdout",
          "output_type": "stream",
          "text": [
            "12252240\n",
            "None\n"
          ]
        }
      ]
    },
    {
      "cell_type": "code",
      "metadata": {
        "colab": {
          "base_uri": "https://localhost:8080/"
        },
        "id": "orNhQap87cMf",
        "outputId": "7ea91193-8472-41f6-f3b3-fda2b1af66d8"
      },
      "source": [
        "# 48\n",
        "total = 0\n",
        "for i in range(1000):\n",
        "  total += ((i+1)**(i+1))\n",
        "print(total)\n",
        "print(str(total)[-10:])"
      ],
      "execution_count": null,
      "outputs": [
        {
          "name": "stdout",
          "output_type": "stream",
          "text": [
            "1000368199144695177095375011227646795567793680622934654583760988100234910747716194381428659099527845945869942643191290894720342979906407679647259860434238468038326040809691037615370376237713648510063115732951461774246705584266865759601815843666442832284556880313114548151539190975398485496645576513465858582712336401166221956188173449531674102688908321764663020306699770408625340766091595022791379368098369306375602813856646358773751558775213460225796579846583334007349358624342339332981334571237888809283103348760261360175950815609179464026871005243652109980863552142014242903434068560936573231079342194031864413918101238151056509267393515760392842472501391594073463001521843811073767021711026307504695733467897821866906648469828346607412967395801797791683609834722432241952845352564681868240369569566192825555323558078061997527689983848863374786789331581565252059172614339424600986143259233167583371070362625554531852054166117148858229508581589614337594463277554380518380921301218836327102231407332201109740102580216469298331766920619646083790732807627360614428085171565006289728508688964226799647192582924058589530750674578385365561878559589685756225692348914746922810913915619834754117648358035814128670294158565669942087736286390942241547226015004471330630113072042704288905042142628193771918594574302202147201188486345913190833752307476966010547423928871063118783026036381319039052008252072057933666712918946233312793697094074224187872045970976444309242782187738320257490080824330074991698698239561125811127607863900355221737846690567707344074494145266662103839812840216303448476913957072355732716627098372245223046792919747259113157425824064858331415400943278213042954635053574045209984512221264241903550178416824551412548637590007779082539288247751653566899882749594405895102587985539527709493510049546445427265617478399107188238681771215904234119392247489751079085948055945098805617963722928469554263782217625160428008228845552540344494860195267115187092227766195753907211126646150140614744233974765273475619964311852858614167819668340124730487710162006793529985758820653677274379563313495454526632718723482339494825759821076401694316043456512117937935456463521463021197726694983558929132357576188594977516630734212863869456164205525536767311298137182511494649463663073759219213056823561667776093739425742883930712609962163464088038826569132032160692637206183085942987973684584276491784843115472077900401692595694119273553511025991265446039366288921743581333200083717105241171504606883543418862024047552177055263424469501298905901938158245938633694105024815166679813689156668341197713475094389904887126794468901893850475050011205225742455555625750560213230387910337983950333245020653238989115507013882956277763880795687210857196493893142656713105966275422144605988058939600603604226921401402096519294250488670297983396353279460453142375542267881989197481789780678955093763193658603690898474826976906544473978017455720367929981796023041785852626797271283465789498383642350667978127819110846700\n",
            "9110846700\n"
          ]
        }
      ]
    },
    {
      "cell_type": "code",
      "metadata": {
        "colab": {
          "base_uri": "https://localhost:8080/"
        },
        "id": "WfIM2kbEixwg",
        "outputId": "ee2b00fb-3918-4b8a-db19-90a0b29fbe92"
      },
      "source": [
        "# diff in sum of squares and square of sum\n",
        "sum_squares = 0\n",
        "sum = 0\n",
        "for i in range(100):\n",
        "  sum_squares += (i+1)**2\n",
        "  sum += i+1\n",
        "\n",
        "print(sum_squares, sum)\n",
        "print(sum**2 - sum_squares)\n"
      ],
      "execution_count": null,
      "outputs": [
        {
          "name": "stdout",
          "output_type": "stream",
          "text": [
            "338350 5050\n",
            "25164150\n"
          ]
        }
      ]
    },
    {
      "cell_type": "code",
      "metadata": {
        "colab": {
          "base_uri": "https://localhost:8080/"
        },
        "id": "BOaZGnQEjtPQ",
        "outputId": "3697caa6-c32c-48f5-8e34-4e37ef44947d"
      },
      "source": [
        "def prime_checker(num):\n",
        "  prime = True\n",
        "  for i in range(num):\n",
        "    if i == 0:\n",
        "      continue\n",
        "    \n",
        "    if num % i == 0 and i != 1 and i != num :\n",
        "      #print(num)\n",
        "      prime = False\n",
        "      return prime\n",
        "      break\n",
        "    else:\n",
        "      continue\n",
        "  if prime == True:\n",
        "    return prime\n",
        "primes = []\n",
        "n = 1\n",
        "while len(primes) <= 10001:\n",
        "  if prime_checker(n):\n",
        "    primes.append(n)\n",
        "  n+=1\n",
        "\n",
        "print(primes[-1])"
      ],
      "execution_count": null,
      "outputs": [
        {
          "name": "stdout",
          "output_type": "stream",
         
        }
      ]
    },
    {
      "cell_type": "code",
      "metadata": {
        "colab": {
          "background_save": true
        },
        "id": "t5YLfINVlAf6"
      },
      "source": [
        "num = '''7316717653133062491922511967442657474235534919493496983520312774506326239578318016984801869478851843858615607891129494954595017379583319528532088055111254069874715852386305071569329096329522744304355766896648950445244523161731856403098711121722383113622298934233803081353362766142828064444866452387493035890729629049156044077239071381051585930796086670172427121883998797908792274921901699720888093776657273330010533678812202354218097512545405947522435258490771167055601360483958644670632441572215539753697817977846174064955149290862569321978468622482839722413756570560574902614079729686524145351004748216637048440319989000889524345065854122758866688116427171479924442928230863465674813919123162824586178664583591245665294765456828489128831426076900422421902267105562632111110937054421750694165896040807198403850962455444362981230987879927244284909188845801561660979191338754992005240636899125607176060588611646710940507754100225698315520005593572972571636269561882670428252483600823257530420752963450'''\n",
        "n=0\n",
        "big=0\n",
        "for i in range(988):\n",
        "\n",
        "    l = (int((int(num[n]) * int(num[n + 1]) * int(num[n + 2]) * int(num[n + 3]) * int(num[n + 4]) * int(num[n + 5]) * int(\n",
        "        num[n + 6]) * int(num[n + 7]) * int(num[n + 8]) * int(num[n + 9]) * int(num[n + 10]) * int(num[n + 11]) * int(\n",
        "        num[n + 12]))))\n",
        "    if l> big:\n",
        "        big =l\n",
        "    print(big)\n",
        "\n",
        "    n+= 1"
      ],
      "execution_count": null,
      "outputs": []
    },
    {
      "cell_type": "code",
      "metadata": {
        "colab": {
          "base_uri": "https://localhost:8080/"
        },
        "id": "vx7BAMCWnCIL",
        "outputId": "777ceaec-5895-4876-ed72-817d9e879eb0"
      },
      "source": [
        "a=8\n",
        "b=15\n",
        "c= 17\n",
        "for i in range(10):\n",
        "    print(a, b, c)\n",
        "    if a+b+c==1000 and a**2+ b**2== c**2:\n",
        "        print(f'a= {a} b= {b} c= {c} success')\n",
        "        break\n",
        "    else:\n",
        "        a*=5\n",
        "        b*=5\n",
        "        c*=5\n",
        "\n",
        "\n",
        "print(a*b*c)"
      ],
      "execution_count": null,
      "outputs": [
        {
          "name": "stdout",
          "output_type": "stream",
          "text": [
            "8 15 17\n",
            "40 75 85\n",
            "200 375 425\n",
            "a= 200 b= 375 c= 425 success\n",
            "31875000\n"
          ]
        }
      ]
    },
    {
      "cell_type": "code",
      "metadata": {
        "id": "YVTsuJ4YnUZ1"
      },
      "source": [
        "\n",
        "# Find the sum of all the primes below two million. 142913828922\n",
        "# take a big divisible number\n",
        "# Python Program to find prime numbers in a range\n",
        "import time\n",
        "\n",
        "start = time.process_time()\n",
        "\n",
        "\n",
        "def approach3(givennumber):\n",
        "    primes = []\n",
        "    total = 0\n",
        "    for possiblePrime in range(2, givennumber + 1):\n",
        "        # Assume number is prime until shown it is not.\n",
        "        isPrime = True\n",
        "        for num in range(2, int(possiblePrime ** 0.5) + 1):\n",
        "            if possiblePrime % num == 0:\n",
        "                isPrime = False\n",
        "                break\n",
        "        if isPrime:\n",
        "            total += possiblePrime\n",
        "            primes.append(possiblePrime)\n",
        "\n",
        "    return primes\n",
        "\n",
        "\n",
        "print(approach3(2000000))\n",
        "print(f'{time.process_time() - start} seconds')"
      ],
      "execution_count": null,
      "outputs": []
    },
    {
      "cell_type": "code",
      "metadata": {
        "colab": {
          "base_uri": "https://localhost:8080/"
        },
        "id": "UddbkwwpnwFu",
        "outputId": "b4e56094-b9f4-4864-aefb-b19b1bf50160"
      },
      "source": [
        "# sum of digits of 2**1000 16\n",
        "num = str((2**1000))\n",
        "# print(num)\n",
        "x = 0\n",
        "total = 0\n",
        "for i in range(len(num)):\n",
        "    total += int(num[x])\n",
        "    x += 1\n",
        "print(total)"
      ],
      "execution_count": null,
      "outputs": [
        {
          "name": "stdout",
          "output_type": "stream",
          "text": [
            "1366\n"
          ]
        }
      ]
    },
    {
      "cell_type": "code",
      "metadata": {
        "id": "8AgYK1Emn9Id"
      },
      "source": [
        "# find the index of the first fibonacci number to have 1000 digits\n",
        "def fib(num):\n",
        "    fibonacci = [1, 1]\n",
        "    for i in range(num-1):\n",
        "        fibonacci.append(fibonacci[-1] + fibonacci[-2])\n",
        "        if (len(str(fibonacci[-1])))>= 1000:\n",
        "            print((len(str(fibonacci[-1]))))\n",
        "    print(fibonacci)\n",
        "\n",
        "\n",
        "fib(4782)\n",
        "# ans = 4782 as first one to cause an error"
      ],
      "execution_count": null,
      "outputs": []
    },
    {
      "cell_type": "code",
      "metadata": {
        "id": "ig6KoiSDoYYZ"
      },
      "source": [
        "namesshort= ['CHAD', 'THAD', 'BRAD']\n",
        "names = sorted(nam)\n",
        "index= 1\n",
        "n = 0\n",
        "total = 0\n",
        "bruh = [x.lower() for x in names]\n",
        "for i in range(len(bruh)):\n",
        "    alpha = 0\n",
        "    for character in bruh[n]:\n",
        "        number = ord(character) - 96\n",
        "        print(number)\n",
        "        alpha += number\n",
        "    total += alpha * index\n",
        "    index += 1\n",
        "    n += 1\n",
        "print(total)"
      ],
      "execution_count": null,
      "outputs": []
    },
    {
      "cell_type": "code",
      "metadata": {
        "id": "zw5nQwT1oxuZ"
      },
      "source": [
        "\n",
        "nums = [37107287533902102798797998220837590246510135740250,46376937677490009712648124896970078050417018260538,74324986199524741059474233309513058123726617309629,91942213363574161572522430563301811072406154908250,23067588207539346171171980310421047513778063246676,89261670696623633820136378418383684178734361726757,28112879812849979408065481931592621691275889832738,44274228917432520321923589422876796487670272189318,47451445736001306439091167216856844588711603153276,70386486105843025439939619828917593665686757934951,62176457141856560629502157223196586755079324193331,64906352462741904929101432445813822663347944758178,92575867718337217661963751590579239728245598838407,58203565325359399008402633568948830189458628227828,80181199384826282014278194139940567587151170094390,35398664372827112653829987240784473053190104293586,86515506006295864861532075273371959191420517255829,71693888707715466499115593487603532921714970056938,54370070576826684624621495650076471787294438377604,53282654108756828443191190634694037855217779295145,36123272525000296071075082563815656710885258350721,45876576172410976447339110607218265236877223636045,17423706905851860660448207621209813287860733969412,81142660418086830619328460811191061556940512689692,51934325451728388641918047049293215058642563049483,62467221648435076201727918039944693004732956340691,15732444386908125794514089057706229429197107928209,55037687525678773091862540744969844508330393682126,18336384825330154686196124348767681297534375946515,80386287592878490201521685554828717201219257766954,78182833757993103614740356856449095527097864797581,16726320100436897842553539920931837441497806860984,48403098129077791799088218795327364475675590848030,87086987551392711854517078544161852424320693150332,59959406895756536782107074926966537676326235447210,69793950679652694742597709739166693763042633987085,41052684708299085211399427365734116182760315001271,65378607361501080857009149939512557028198746004375,35829035317434717326932123578154982629742552737307,94953759765105305946966067683156574377167401875275,88902802571733229619176668713819931811048770190271,25267680276078003013678680992525463401061632866526,36270218540497705585629946580636237993140746255962,24074486908231174977792365466257246923322810917141,91430288197103288597806669760892938638285025333403,34413065578016127815921815005561868836468420090470,23053081172816430487623791969842487255036638784583,11487696932154902810424020138335124462181441773470,63783299490636259666498587618221225225512486764533,67720186971698544312419572409913959008952310058822,95548255300263520781532296796249481641953868218774,76085327132285723110424803456124867697064507995236,37774242535411291684276865538926205024910326572967,23701913275725675285653248258265463092207058596522,29798860272258331913126375147341994889534765745501,18495701454879288984856827726077713721403798879715,38298203783031473527721580348144513491373226651381,34829543829199918180278916522431027392251122869539,40957953066405232632538044100059654939159879593635,29746152185502371307642255121183693803580388584903,41698116222072977186158236678424689157993532961922,62467957194401269043877107275048102390895523597457,23189706772547915061505504953922979530901129967519,86188088225875314529584099251203829009407770775672,11306739708304724483816533873502340845647058077308,82959174767140363198008187129011875491310547126581,97623331044818386269515456334926366572897563400500,42846280183517070527831839425882145521227251250327,55121603546981200581762165212827652751691296897789,32238195734329339946437501907836945765883352399886,75506164965184775180738168837861091527357929701337,62177842752192623401942399639168044983993173312731,32924185707147349566916674687634660915035914677504,99518671430235219628894890102423325116913619626622,73267460800591547471830798392868535206946944540724,76841822524674417161514036427982273348055556214818,97142617910342598647204516893989422179826088076852,87783646182799346313767754307809363333018982642090,10848802521674670883215120185883543223812876952786,71329612474782464538636993009049310363619763878039,62184073572399794223406235393808339651327408011116,66627891981488087797941876876144230030984490851411,60661826293682836764744779239180335110989069790714,85786944089552990653640447425576083659976645795096,66024396409905389607120198219976047599490197230297,64913982680032973156037120041377903785566085089252,16730939319872750275468906903707539413042652315011,94809377245048795150954100921645863754710598436791,78639167021187492431995700641917969777599028300699,15368713711936614952811305876380278410754449733078,40789923115535562561142322423255033685442488917353,44889911501440648020369068063960672322193204149535,41503128880339536053299340368006977710650566631954,81234880673210146739058568557934581403627822703280,82616570773948327592232845941706525094512325230608,22918802058777319719839450180888072429661980811197,77158542502016545090413245809786882778948721859617,72107838435069186155435662884062257473692284509516,20849603980134001723930671666823555245252804609722,53503534226472524250874054075591789781264330331690]\n",
        "import re\n",
        "def remove(string):\n",
        "    pattern = re.compile(r'\\s+')\n",
        "    return re.sub(pattern, ',', string)\n",
        "      \n",
        "# Driver Program\n",
        "total = 0\n",
        "for i in range(len(nums)):\n",
        "  total += nums[i]\n",
        "\n",
        "print(total)\n",
        "print(str(total)[:10])"
      ],
      "execution_count": null,
      "outputs": []
    },
    {
      "cell_type": "code",
      "metadata": {
        "id": "btIkJRvwxIVn"
      },
      "source": [
        ""
      ],
      "execution_count": null,
      "outputs": []
    },
    {
      "cell_type": "code",
      "metadata": {
        "id": "0-4E4CjYtNf3"
      },
      "source": [
        "def collatz(start):\n",
        "  seq = [start]\n",
        "  i = 0\n",
        "  while seq[-1] != 1:\n",
        "    if seq[i] % 2 == 0:\n",
        "      seq.append(int(seq[i]/2))\n",
        "    else:\n",
        "      seq.append(int(3*seq[i]+1))\n",
        "    i += 1\n",
        "  return len(seq)\n",
        "    \n",
        "longest = 0\n",
        "\n",
        "for j in range():\n",
        "  if collatz(j+1) > longest:\n",
        "    longest = j+1\n",
        "\n",
        "print(longest)\n"
      ],
      "execution_count": null,
      "outputs": []
    },
    {
      "cell_type": "code",
      "metadata": {
        "id": "tdJcImAVy7GU"
      },
      "source": [
        "print(collatz(837799))\n",
        "print(collatz(35655))\n",
        "longest = [1,2]\n",
        "for i in range(1000):\n",
        "  if collatz(i+1) > longest[-1]:\n",
        "    longest.append(i+1)\n",
        "print(longest)\n"
      ],
      "execution_count": null,
      "outputs": []
    },
    {
      "cell_type": "code",
      "metadata": {
        "colab": {
          "base_uri": "https://localhost:8080/"
        },
        "id": "wMp7anzh16wi",
        "outputId": "3dc4b804-74f2-4fbd-9ed9-de13e46809fd"
      },
      "source": [
        "print(collatz(27))\n",
        "print(collatz(39))"
      ],
      "execution_count": null,
      "outputs": [
        {
          "name": "stdout",
          "output_type": "stream",
          "text": [
            "112\n",
            "35\n"
          ]
        }
      ]
    },
    {
      "cell_type": "code",
      "metadata": {
        "colab": {
          "base_uri": "https://localhost:8080/"
        },
        "id": "-1Vutf_tRVSh",
        "outputId": "c731987e-2973-4ab0-c77b-b82782efe43b"
      },
      "source": [
        "def f(num):\n",
        "  total = 1\n",
        "  for i in range (num):\n",
        "    total *= i+1\n",
        "  return total\n",
        "\n",
        "\n",
        "print(f(40)//f(20)//f(20))"
      ],
      "execution_count": null,
      "outputs": [
        {
          "name": "stdout",
          "output_type": "stream",
          "text": [
            "137846528820\n"
          ]
        }
      ]
    },
    {
      "cell_type": "code",
      "metadata": {
        "colab": {
          "base_uri": "https://localhost:8080/"
        },
        "id": "wlapN2AoSj_G",
        "outputId": "486f69e6-b3d2-4a27-acbc-36ddc1589fe0"
      },
      "source": [
        "# still need to do exceptions like 0\n",
        "base1 = {1:3, 2:3, 3:5, 4:4, 5:4, 6:3, 7:5, 8:5, 9:4}\n",
        "base2 = {1:4, 2:6, 3:6, 4:5, 5:5, 6:5, 7:7, 8:7, 9:6}\n",
        "base3 = {1:13, 2:13, 3:15, 4:14, 5:14, 6:13, 7:15, 8:15, 9:14}\n",
        "exceptions =  {10:3, 11:6, 12:6, 13:7, 14:8, 15:7, 1000:21}\n",
        "# 342 15 + 5 + 3\n",
        "def simple(num):\n",
        "  num = str(num)\n",
        "  if len(num) == 3:\n",
        "    total = (base1[int(num[-1])]) + (base2[int(num[-2])]) + (base3[int(num[-3])])\n",
        "    return total, num\n",
        "  if len(num) == 2:\n",
        "    total = (base1[int(num[-1])]) + (base2[int(num[-2])])\n",
        "    return total, num\n",
        "  if len(num) == 1:\n",
        "    total = (base1[int(num[-1])])\n",
        "    return total, num\n",
        "  if len(num) == 4:\n",
        "    total = 21\n",
        "    return total, num\n",
        " \n",
        "simple(21)\n",
        "\n",
        "def harder(num):\n",
        "  num = str(num)\n",
        "  if \"0\" in num:\n",
        "    if \"0\" in num\n",
        "\n"
      ],
      "execution_count": null,
      "outputs": [
        {
          "data": {
            "text/plain": [
              "(9, '21')"
            ]
          },
          "execution_count": 144,
          "metadata": {},
          "output_type": "execute_result"
        }
      ]
    },
    {
      "cell_type": "code",
      "metadata": {
        "colab": {
          "base_uri": "https://localhost:8080/"
        },
        "id": "76TpNxWOVGRD",
        "outputId": "5135b90b-336d-4542-a241-ba60a0bf276f"
      },
      "source": [
        "num = 13\n",
        "if num in exceptions:\n",
        "  print(True)"
      ],
      "execution_count": null,
      "outputs": [
        {
          "name": "stdout",
          "output_type": "stream",
          "text": [
            "True\n"
          ]
        }
      ]
    },
    {
      "cell_type": "code",
      "metadata": {
        "id": "K9kJP9q0aD37"
      },
      "source": [
        "# amicable divisors, sum of 220 factors excl 220 = 284: sum of 284 factors excl 284 = 220, find all under 10000"
      ],
      "execution_count": null,
      "outputs": []
    },
    {
      "cell_type": "code",
      "metadata": {
        "id": "82u2FaH4cxi9"
      },
      "source": [
        "!pip install cypari\n"
      ],
      "execution_count": null,
      "outputs": []
    },
    {
      "cell_type": "code",
      "metadata": {
        "colab": {
          "base_uri": "https://localhost:8080/"
        },
        "id": "E2HCmvc6bSZx",
        "outputId": "d51fc36f-4c1a-4044-88b4-ead315a42c4c"
      },
      "source": [
        "# perfect number is sum of proper divisors, e.g. 28. A number is abundant if the sum of its divisors is bigger than itself\n",
        "# all numbers below 28123, can be written as the sum of two abundant numbers\n",
        "# find all the sum of all the numbers that can't be sum of two abundant numbers\n",
        "import cypari\n",
        "def get_divisors(n):\n",
        "   divisors = cypari.pari('divisors({})'.format(n))\n",
        "   total = 0\n",
        "   for i in range(len(divisors)):\n",
        "     total += divisors[i]\n",
        "   total -= n\n",
        "   return total\n",
        "\n",
        "def abundant(limit):\n",
        "  nums = [12]\n",
        "  n = 0\n",
        "  while nums[-1] < limit:\n",
        "    if get_divisors(n+1) > n+1:\n",
        "      nums.append(n+1)\n",
        "    n += 1\n",
        "  del nums[0]\n",
        "  return nums\n",
        "\n",
        "\n",
        "ab = (abundant(28123))\n",
        "\n",
        "non_ab_sum = [x for x in range(28123)]\n",
        "for i in range(len(ab)):\n",
        "\tfor j in range(i,28123):\n",
        "\t\tif ab[i]+ab[j] < 28123:\n",
        "\t\t\t#negating the value of the abundant sum\n",
        "\t\t\tnon_ab_sum[ab[i]+ab[j]] = 0\n",
        "\t\telse:\n",
        "\t\t\tbreak\n",
        "\n",
        "\n",
        "total = 0\n",
        "for i in range(len(non_ab_sum)):\n",
        "  total += non_ab_sum[i]\n",
        "\n",
        "print(total)"
      ],
      "execution_count": null,
      "outputs": [
        {
          "output_type": "stream",
          "name": "stdout",
          "text": [
            "4179871\n"
          ]
        }
      ]
    },
    {
      "cell_type": "code",
      "metadata": {
        "colab": {
          "base_uri": "https://localhost:8080/"
        },
        "id": "0JmV7M4vk5ap",
        "outputId": "fae9c9f7-5818-48b9-f17c-ac89c6086936"
      },
      "source": [
        "# listing numbers 0-9 in alphabetical order\n",
        "from itertools import permutations\n",
        "print (''.join(list(permutations('0123456789',10))[999999]))\n"
      ],
      "execution_count": null,
      "outputs": [
        {
          "output_type": "stream",
          "name": "stdout",
          "text": [
            "2783915460\n"
          ]
        }
      ]
    },
    {
      "cell_type": "code",
      "metadata": {
        "id": "yHvoYN0Omver"
      },
      "source": [
        "# how many distinct terms are in the sequence of a^b with a and b being 2-100\n",
        "terms = []\n",
        "for i in range(2,101):\n",
        "  for j in range(i, 101):\n",
        "    if i**j not in terms:\n",
        "      terms.append(i**j)\n",
        "    if j**i not in terms:\n",
        "      terms.append(j**i)\n",
        "\n",
        "terms.sort()\n",
        "print(terms)\n",
        "print(len(terms))"
      ],
      "execution_count": null,
      "outputs": []
    },
    {
      "cell_type": "code",
      "metadata": {
        "colab": {
          "base_uri": "https://localhost:8080/"
        },
        "id": "2wiIo1HnszBr",
        "outputId": "3a233f28-c820-4a38-c9af-42ca8059b0ef"
      },
      "source": [
        "# sum of numbers which base 10 and base 2 are palindromes\n",
        "def check_palindrome(num):\n",
        "  palindrome = True\n",
        "\n",
        "  if len(str(num)) % 2 == 0:\n",
        "    for i in range(int(int(len(str(num)))/2)):\n",
        "      if str(num)[i] != str(num)[-(i+1)]:\n",
        "        palindrome = False\n",
        "        break\n",
        "  else:\n",
        "    for i in range(int((int(len(str(num)))/2)-0.5)):\n",
        "      if str(num)[i] != str(num)[-(i+1)]:\n",
        "        palindrome = False\n",
        "        break\n",
        "\n",
        "  return palindrome\n",
        "\n",
        "def binaryToDecimal(number):\n",
        "    temp = int(number, 2)\n",
        "    return temp\n",
        "\n",
        "def decimalToBinary(n):\n",
        "    # converting decimal to binary\n",
        "    # and removing the prefix(0b)\n",
        "    return bin(n).replace(\"0b\", \"\")\n",
        "total = 0\n",
        "for i in range(1000000):\n",
        "  if check_palindrome(i) and check_palindrome(decimalToBinary(i)):\n",
        "    total += i\n",
        "\n",
        "print(total)\n",
        "\n"
      ],
      "execution_count": null,
      "outputs": [
        {
          "output_type": "stream",
          "name": "stdout",
          "text": [
            "872187\n"
          ]
        }
      ]
    },
    {
      "cell_type": "code",
      "metadata": {
        "id": "FeMoClSLt6vq"
      },
      "source": [
        "# numbers that are equal to the sum of the factorial of their digits\n",
        "def f(num):\n",
        "  total = 1\n",
        "  for i in range (num):\n",
        "    total *= i+1\n",
        "  return total\n",
        "\n",
        "def sum_factorials(num):\n",
        "  total = 0\n",
        "  for i in range(len(str(num))):\n",
        "    total += f(int(str(num)[i]))\n",
        "  return total\n",
        "\n",
        "n = 3\n",
        "total = 0\n",
        "while True:\n",
        "  if sum_factorials(n) == n:\n",
        "    total += n\n",
        "  n += 1\n",
        "  print(total)\n"
      ],
      "execution_count": null,
      "outputs": []
    },
    {
      "cell_type": "code",
      "metadata": {
        "id": "Jk6w5nw7xfD8"
      },
      "source": [
        "coins = [1,2,5,20,50,100] # 200\n",
        "import random\n"
      ],
      "execution_count": null,
      "outputs": []
    },
    {
      "cell_type": "code",
      "metadata": {
        "colab": {
          "base_uri": "https://localhost:8080/"
        },
        "id": "Z-FCDmpE0szQ",
        "outputId": "5ddb441f-6e5f-46ac-c6a7-3f3960f4806b"
      },
      "source": [
        "def prime_gen(givennumber):\n",
        "    primes = []\n",
        "    total = 0\n",
        "    for possiblePrime in range(2, givennumber + 1):\n",
        "        # Assume number is prime until shown it is not.\n",
        "        isPrime = True\n",
        "        for num in range(2, int(possiblePrime ** 0.5) + 1):\n",
        "            if possiblePrime % num == 0:\n",
        "                isPrime = False\n",
        "                break\n",
        "        if isPrime:\n",
        "            total += possiblePrime\n",
        "            primes.append(possiblePrime)\n",
        "\n",
        "    return primes\n",
        "\n",
        "def prime_checker(number):\n",
        "  isPrime = True\n",
        "  for num in range(2, int(number ** 0.5) + 1):\n",
        "    if number % num == 0:\n",
        "      isPrime = False\n",
        "      return False\n",
        "      break\n",
        "  return True\n",
        "\n",
        "from collections import deque\n",
        "def rotations(num):\n",
        "  A = deque([])\n",
        "  for i in range(len(str(num))):\n",
        "    A.append(int(str(num)[i]))\n",
        "  \n",
        "  \n",
        "  perms = []\n",
        "  for i in range(len(A)):\n",
        "    num = \"\"\n",
        "    for j in range(len(A)):\n",
        "      num += str((A)[j])\n",
        "      \n",
        "      \n",
        "    perms.append(num)\n",
        "    A.rotate()\n",
        "\n",
        "  return perms\n",
        "\n",
        "primes = (prime_gen(1000000))\n",
        "circular_primes = []\n",
        "not_circular = []\n",
        "for i in range(len(primes)):\n",
        "  check = rotations(primes[i])\n",
        "  for j in range(len(check)):\n",
        "    all_prime = True\n",
        "    if prime_checker(int(check[j])) == False:\n",
        "      all_prime = False\n",
        "      not_circular.append(primes[i])\n",
        "      break\n",
        "    elif all_prime and primes[i] not in circular_primes and primes[i] not in not_circular:\n",
        "      circular_primes.append(primes[i])\n",
        "    \n",
        "copy = circular_primes.copy()\n",
        "for i in range(len(circular_primes)):\n",
        "  if circular_primes[i] in not_circular:\n",
        "    copy.remove(circular_primes[i])\n",
        "circular_primes = copy\n",
        "  \n",
        "# print(not_circular)\n",
        "print(circular_primes)\n",
        "print(len(circular_primes))\n",
        "\n",
        "#print(prime_checker(6))\n",
        "\n"
      ],
      "execution_count": null,
      "outputs": [
        {
          "output_type": "stream",
          "name": "stdout",
          "text": [
            "[2, 3, 5, 7, 11, 13, 17, 31, 37, 71, 73, 79, 97, 113, 131, 197, 199, 311, 337, 373, 719, 733, 919, 971, 991, 1193, 1931, 3119, 3779, 7793, 7937, 9311, 9377, 11939, 19391, 19937, 37199, 39119, 71993, 91193, 93719, 93911, 99371, 193939, 199933, 319993, 331999, 391939, 393919, 919393, 933199, 939193, 939391, 993319, 999331]\n",
            "55\n"
          ]
        }
      ]
    },
    {
      "cell_type": "code",
      "metadata": {
        "id": "wTx9mgh6FqoE"
      },
      "source": [
        ""
      ],
      "execution_count": null,
      "outputs": []
    },
    {
      "cell_type": "code",
      "metadata": {
        "id": "oIacptJB2_ya"
      },
      "source": [
        "# produce all combinations of numbers\n",
        "for i in range(1,10):\n",
        "  for j in range(i, 10):\n",
        "    for y in range(j, 10):\n",
        "      print(f'{i}{j}{y}')"
      ],
      "execution_count": null,
      "outputs": []
    },
    {
      "cell_type": "code",
      "metadata": {
        "colab": {
          "base_uri": "https://localhost:8080/"
        },
        "id": "MSEd0lxC4Kcy",
        "outputId": "1b529608-1104-4c3b-9226-0458f4d17955"
      },
      "source": [
        "# champernowne's constant\n",
        "constant = \"\"\n",
        "for i in range(1000000):\n",
        "  constant += str(i)\n",
        "\n",
        "print(int(constant[1]) * int(constant[10]) * int(constant[100]) * int(constant[1000]) * int(constant[10000]) * int(constant[100000]) * int(constant[1000000]))"
      ],
      "execution_count": null,
      "outputs": [
        {
          "output_type": "stream",
          "name": "stdout",
          "text": [
            "210\n"
          ]
        }
      ]
    },
    {
      "cell_type": "code",
      "metadata": {
        "id": "nvRBC9FbkhWa"
      },
      "source": [
        "# find the sum of all the digits that can be written as the fifth power of their digits\n",
        "# just do a simple loop, seems quite simple\n",
        "\n",
        "total = -1  # 1^4 doesn't count\n",
        "n = 0\n",
        "while True:\n",
        "  power_sum = 0\n",
        "  for i in range(len(str(n))):\n",
        "    power_sum += int(str(n)[i])**5\n",
        "  if power_sum == n:\n",
        "    total += n\n",
        "  n += 1\n",
        "  print(total)\n",
        "# 443839 is where it stays"
      ],
      "execution_count": null,
      "outputs": []
    },
    {
      "cell_type": "code",
      "metadata": {
        "colab": {
          "base_uri": "https://localhost:8080/"
        },
        "id": "rmODJzEBwqO4",
        "outputId": "2e5bfc0e-4e90-4480-b43b-13e52cccb730"
      },
      "source": [
        "# find all 11 fully truncuatable \n",
        "def truncuate(num):\n",
        "  for "
      ],
      "execution_count": null,
      "outputs": [
        {
          "output_type": "execute_result",
          "data": {
            "text/plain": [
              "34"
            ]
          },
          "metadata": {},
          "execution_count": 4
        }
      ]
    },
    {
      "cell_type": "code",
      "metadata": {
        "colab": {
          "base_uri": "https://localhost:8080/"
        },
        "id": "RCUMBQP-xqal",
        "outputId": "833e503e-c7bb-4757-fe76-2c39158f47b5"
      },
      "source": [
        "x = [23, 37, 53, 73, 313, 317, 373, 797, 3137, 3797, 739397] # on wikipedia\n",
        "print(len(x))\n",
        "print(sum(x))"
      ],
      "execution_count": null,
      "outputs": [
        {
          "output_type": "stream",
          "name": "stdout",
          "text": [
            "11\n",
            "748317\n"
          ]
        }
      ]
    },
    {
      "cell_type": "code",
      "metadata": {
        "id": "Z4x4V9W2yxxv"
      },
      "source": [
        "def triangle(amount):\n",
        "  triangle_numbers = []\n",
        "  for i in range(amount+1):\n",
        "    if i == 0:\n",
        "      continue\n",
        "    else:\n",
        "      triangle_numbers.append(int((i*(i+1))/2))\n",
        "  return triangle_numbers\n",
        "\n",
        "def pentagon(amount):  # ignore the incorrect variable naming\n",
        "  triangle_numbers = []\n",
        "  for i in range(amount+1):\n",
        "    if i == 0:\n",
        "      continue\n",
        "    else:\n",
        "      triangle_numbers.append(int((i*((3*i)-1))/2))\n",
        "  return triangle_numbers\n",
        "\n",
        "def hexagon(amount):  # ignore the incorrect variable naming\n",
        "  triangle_numbers = []\n",
        "  for i in range(amount+1):\n",
        "    if i == 0:\n",
        "      continue\n",
        "    else:\n",
        "      triangle_numbers.append(int(i*((2*i)-1)))\n",
        "  return triangle_numbers\n",
        "# pent numbers are 1/3 of a triangle number\n",
        "# every hex number is a triangle number\n",
        "hex = hexagon(1000000)\n",
        "pent = pentagon(1000000)\n",
        "tri = triangle(1000000)\n",
        "for i in range(len(hex)):\n",
        "    if hex[i] in pent:\n",
        "      print(hex[i])\n",
        "\n",
        "\n",
        "\n"
      ],
      "execution_count": null,
      "outputs": []
    },
    {
      "cell_type": "code",
      "metadata": {
        "colab": {
          "base_uri": "https://localhost:8080/"
        },
        "id": "fhkSFmfL5uj5",
        "outputId": "e652249b-757a-480b-c7aa-784470fb0996"
      },
      "source": [
        "# Python3 program of the above approach\n",
        "import math\n",
        " \n",
        "# Function to print numbers upto N\n",
        "# which are both pentagonal as well\n",
        "# as hexagonal numbers\n",
        "def pen_hex(n):\n",
        " \n",
        "    pn = 1\n",
        "    for i in range(1, N):\n",
        " \n",
        "        # Calculate i-th pentagonal number\n",
        "        pn = (int)(i * (3 * i - 1) / 2)\n",
        " \n",
        "        if (pn > n):\n",
        "            break\n",
        " \n",
        "        # Check if the pentagonal number\n",
        "        # pn is hexagonal or not\n",
        "        seqNum = (1 + math.sqrt(8 * pn + 1)) / 4\n",
        " \n",
        "        if (seqNum == (int)(seqNum)):\n",
        "            print(pn, end = \", \")\n",
        " \n",
        "# Driver Code\n",
        "N = 10000000000\n",
        "pen_hex(N)\n",
        " \n",
        "# This code is contributed by divyeshrabadiya07"
      ],
      "execution_count": null,
      "outputs": [
        {
          "output_type": "stream",
          "name": "stdout",
          "text": [
            "1, 40755, 1533776805, "
          ]
        }
      ]
    },
    {
      "cell_type": "code",
      "metadata": {
        "id": "OCGPRYPr7UYS"
      },
      "source": [
        "def prime_gen(givennumber):\n",
        "    primes = []\n",
        "    total = 0\n",
        "    for possiblePrime in range(2, givennumber + 1):\n",
        "        # Assume number is prime until shown it is not.\n",
        "        isPrime = True\n",
        "        for num in range(2, int(possiblePrime ** 0.5) + 1):\n",
        "            if possiblePrime % num == 0:\n",
        "                isPrime = False\n",
        "                break\n",
        "        if isPrime:\n",
        "            total += possiblePrime\n",
        "            primes.append(possiblePrime)\n",
        "\n",
        "    return primes\n",
        "\n",
        "def prime_checker(number):\n",
        "  isPrime = True\n",
        "  for num in range(2, int(number ** 0.5) + 1):\n",
        "    if number % num == 0:\n",
        "      isPrime = False\n",
        "      return False\n",
        "      break\n",
        "  return True\n",
        "\n",
        "print(prime_gen(10000000))"
      ],
      "execution_count": null,
      "outputs": []
    },
    {
      "cell_type": "code",
      "metadata": {
        "colab": {
          "base_uri": "https://localhost:8080/"
        },
        "id": "HCz78cev7-zB",
        "outputId": "9db0bb65-4b1f-40ff-81bb-ed75548e8388"
      },
      "source": [
        "from itertools import permutations\n",
        "\n",
        "def perms(num):\n",
        "  A = []\n",
        "  for i in range(len(str(num))):\n",
        "    A.append(int(str(num)[i]))\n",
        "  per = []\n",
        "  perm = permutations(A)\n",
        "  for i in list(perm):\n",
        "    per.append(i)\n",
        "  nums = []\n",
        "  for i in range(len(per)):\n",
        "    a = \"\"\n",
        "    for j in range(len(per[i])):\n",
        "      a += str(per[i][j])\n",
        "    nums.append(int(a))\n",
        "\n",
        "  return nums\n",
        "print(perms(4))\n",
        "biggest = 0\n",
        "permutations = (perms(1234567))\n",
        "for i in range(len(permutations)):\n",
        "  if (permutations[i]) > biggest:\n",
        "    if prime_checker(permutations[i]):\n",
        "      biggest = permutations[i]\n",
        "\n",
        "print(biggest)\n"
      ],
      "execution_count": null,
      "outputs": [
        {
          "output_type": "stream",
          "name": "stdout",
          "text": [
            "[4]\n",
            "7652413\n"
          ]
        }
      ]
    },
    {
      "cell_type": "code",
      "metadata": {
        "id": "LVnnohxg-09_"
      },
      "source": [
        "# permutated number contains x, 2x, 3x, 4x, 5x and 6x\n",
        "# too slow to even do the example\n",
        "from itertools import permutations\n",
        "\n",
        "def perms(num):\n",
        "  A = []\n",
        "  for i in range(len(str(num))):\n",
        "    A.append(int(str(num)[i]))\n",
        "  per = []\n",
        "  perm = permutations(A)\n",
        "  for i in list(perm):\n",
        "    per.append(i)\n",
        "  nums = []\n",
        "  for i in range(len(per)):\n",
        "    a = \"\"\n",
        "    for j in range(len(per[i])):\n",
        "      a += str(per[i][j])\n",
        "    nums.append(int(a))\n",
        "\n",
        "  return nums\n",
        "\n",
        "n = 1\n",
        "while True:\n",
        "  perm = perms(n)\n",
        "  multiples = True\n",
        "  for i in range(len(perm)):\n",
        "    for j in range(2):\n",
        "      if perm[i] != (perm[i]*j+2):\n",
        "        multiples = False\n",
        "        print(perm[i])\n",
        "        break\n",
        "    if multiples == True:\n",
        "      print(perm[i])\n",
        "  n += 1"
      ],
      "execution_count": null,
      "outputs": []
    },
    {
      "cell_type": "code",
      "metadata": {
        "id": "zLBQLQkJ9JIe"
      },
      "source": [
        "\n",
        "\n",
        "numbers = []\n",
        "for i in range(len(words)):\n",
        "  num = \"\"\n",
        "  lower = words[i].lower()\n",
        "  for j in range(len(lower)):\n",
        "    for l in lower:\n",
        "      num += (ord(l)-96)\n",
        "\n",
        "  numbers.append(int(num))\n",
        "\n",
        "\n"
      ],
      "execution_count": null,
      "outputs": []
    },
    {
      "cell_type": "code",
      "metadata": {
        "id": "y3li9cRVJvVL"
      },
      "source": [
        "chars = []\n",
        "\n",
        "def triangle(amount):\n",
        "  triangle_numbers = []\n",
        "  for i in range(amount+1):\n",
        "    if i == 0:\n",
        "      continue\n",
        "    else:\n",
        "      triangle_numbers.append(int((i*(i+1))/2))\n",
        "  return triangle_numbers\n",
        "\n",
        "tri = triangle(1000000)\n",
        "\n",
        "def isTriangular(n: int) -> bool:\n",
        "    \"\"\"\n",
        "    when 8.0*n+1.0 is a perfect square it is triangular\n",
        "    \"\"\"\n",
        "    x = 8.0*n+1.0\n",
        "    return x % x**0.5 == 0.0\n",
        "\n",
        "def convert(word):\n",
        "  n = []\n",
        "  y = 0\n",
        "  word = word.lower()\n",
        "  for x in word:\n",
        "    n.append(ord(x)-96)\n",
        "\n",
        "  for i in range(len(n)):\n",
        "    y += (n[i])\n",
        "  return y\n",
        "\n",
        "total = 0\n",
        "for z in range(len(chars)):\n",
        "  # print(z)\n",
        "  if isTriangular(int(convert(chars[z]))):\n",
        "    total += 1\n",
        "    \n",
        "\n",
        "\n",
        "\n",
        "print(total)\n",
        "\n",
        "\n"
      ],
      "execution_count": null,
      "outputs": []
    },
    {
      "cell_type": "code",
      "metadata": {
        "colab": {
          "base_uri": "https://localhost:8080/"
        },
        "id": "0pw_OFUAB9ee",
        "outputId": "6a558664-56e5-4b97-d1a7-9a7ed36a2ab6"
      },
      "source": [
        "# p(L,n), nth smallest value of j such that 2^j begins with L\n",
        "print(2**7) # 128, therefore p(12,1), p(12,2) = 80\n"
      ],
      "execution_count": null,
      "outputs": [
        {
          "output_type": "stream",
          "name": "stdout",
          "text": [
            "128\n"
          ]
        }
      ]
    },
    {
      "cell_type": "code",
      "metadata": {
        "id": "eiuDlBNhDnAn"
      },
      "source": [
        "# unique integer, whose square is 1_2_3_4_5_6_7_8_9_0\n",
        "num = \"1_2_3_4_5_6_7_8_9_0\"\n",
        "possible = 162636465667686960\n",
        "n = 0\n",
        "for i in range(10):\n",
        "  print(num[i+1])"
      ],
      "execution_count": null,
      "outputs": []
    },
    {
      "cell_type": "code",
      "metadata": {
        "colab": {
          "base_uri": "https://localhost:8080/"
        },
        "id": "gZdRotqLJ7ko",
        "outputId": "0fe6e875-c37b-4c70-dfd0-e7491d4c637c"
      },
      "source": [
        "\n",
        "def is_concealed(n):\n",
        "    digits = str(n)\n",
        "    template = \"1_2_3_4_5_6_7_8_9_0\"\n",
        "\n",
        "    if len(digits) != len(template):\n",
        "        return False\n",
        "\n",
        "    return all(digits[i] == template[i] for i in range(0, len(digits), 2))\n",
        "\n",
        "def main():\n",
        "    print(next((n for n in range(1000000000, 1390000000, 10)\n",
        "        if (n % 100 == 30 or n % 100 == 70) and is_concealed(n*n))))\n",
        "\n",
        "main()"
      ],
      "execution_count": null,
      "outputs": [
        {
          "output_type": "stream",
          "name": "stdout",
          "text": [
            "1389019170\n"
          ]
        }
      ]
    },
    {
      "cell_type": "code",
      "metadata": {
        "colab": {
          "base_uri": "https://localhost:8080/"
        },
        "id": "Sbu1OtN2KZmI",
        "outputId": "d7e9f220-4481-407d-8509-ff2452a2cef9"
      },
      "source": [
        "print(1389019170**2)"
      ],
      "execution_count": null,
      "outputs": [
        {
          "output_type": "stream",
          "name": "stdout",
          "text": [
            "1929374254627488900\n"
          ]
        }
      ]
    },
    {
      "cell_type": "code",
      "source": [
        "def solution():\n",
        "  num = int(input())\n",
        "  nums = \"\"\n",
        "  for i in range (num):\n",
        "    nums += str(num - i) + \" \"\n",
        "\n",
        "  print(nums)\n",
        "\n",
        "solution()\n",
        "  "
      ],
      "metadata": {
        "id": "4nG0ZNZMFJo9"
      },
      "execution_count": null,
      "outputs": []
    },
    {
      "cell_type": "code",
      "source": [
        "\n",
        "bases = []\n",
        "exp = []\n",
        "chr = \",\"\n",
        "path = \"/content/drive/MyDrive/p099_base_exp.txt\"\n",
        "with open(path) as base_exp:\n",
        "  for i in range(1000):\n",
        "    line = base_exp.readline()\n",
        "    index = line.find(chr)\n",
        "    bases.append(int(line[:index]))\n",
        "    exp.append(int(line[index:-1][1:]))\n",
        "print(bases)\n",
        "print(exp)\n"
      ],
      "metadata": {
        "colab": {
          "base_uri": "https://localhost:8080/"
        },
        "id": "jdOkN-BN1R-i",
        "outputId": "2ceda733-a861-4559-d56f-5d3fce59cb31"
      },
      "execution_count": null,
      "outputs": [
        {
          "output_type": "stream",
          "name": "stdout",
          "text": [
            "[519432, 632382, 78864, 466580, 780495, 525895, 15991, 960290, 760018, 166800, 210884, 555151, 681146, 563395, 738250, 923525, 595148, 177108, 750923, 440902, 881418, 422489, 979858, 685893, 747477, 167214, 234140, 940238, 728969, 232083, 900971, 688801, 189664, 891022, 445689, 119570, 821453, 371084, 911745, 623655, 144361, 352442, 420726, 295298, 6530, 468397, 672336, 431861, 84228, 805376, 444409, 33833, 381850, 402931, 92901, 304825, 731917, 753734, 51894, 151578, 295075, 303590, 333594, 683952, 60090, 951420, 28335, 714940, 343858, 549279, 804571, 260653, 291399, 402342, 408889, 40328, 375856, 768907, 165993, 976327, 898500, 360404, 478714, 694144, 488726, 841380, 328012, 22389, 604053, 329514, 772965, 492798, 30125, 895603, 450785, 840237, 380711, 63577, 76801, 502694, 597706, 310484, 944468, 121283, 451131, 566499, 425373, 40240, 39130, 714926, 469219, 806929, 287970, 92189, 103841, 671839, 452048, 987837, 935192, 88585, 613883, 144551, 647359, 213902, 184120, 258126, 502546, 407655, 401528, 477490, 841085, 732831, 833000, 904694, 581435, 455545, 873558, 94916, 720176, 545034, 246348, 556452, 832015, 173663, 502634, 250732, 569786, 216919, 521815, 92304, 164446, 753413, 11410, 448845, 925072, 564888, 7062, 641155, 738878, 636204, 372540, 443162, 571192, 655350, 299741, 581914, 965471, 513441, 808682, 237589, 543300, 804712, 247511, 543486, 504383, 326529, 792493, 86033, 126554, 579379, 948026, 404777, 265767, 266876, 46631, 492397, 856106, 795757, 748946, 294694, 409781, 775887, 543747, 210592, 517119, 520253, 247926, 592141, 346580, 544969, 506501, 244520, 144745, 69274, 292620, 926027, 736320, 515528, 407549, 848089, 24141, 9224, 980684, 175259, 489160, 878970, 969546, 525207, 690461, 156510, 659778, 468739, 765252, 76703, 165151, 29779, 928865, 577538, 927555, 185377, 974756, 800130, 217016, 365709, 774508, 588716, 631673, 954076, 777828, 990659, 597799, 786905, 512547, 756449, 869787, 653747, 84623, 839698, 30159, 797275, 678136, 897144, 989554, 413292, 55297, 788650, 486748, 150724, 56434, 77207, 588631, 611619, 100006, 528924, 190225, 851155, 682593, 613043, 514673, 877634, 878905, 1926, 613245, 152481, 841774, 71060, 865335, 90244, 302156, 399059, 478465, 558601, 69132, 267663, 988276, 378354, 529909, 161733, 758541, 823425, 149821, 269258, 481152, 120871, 972322, 981350, 676129, 950860, 119000, 392252, 191618, 946699, 289555, 799322, 703886, 194812, 261823, 203052, 217330, 734748, 391759, 807052, 564467, 59186, 113447, 518063, 905944, 613922, 439093, 445946, 230530, 297887, 459029, 403692, 855118, 963127, 841711, 407411, 924729, 914823, 333725, 176345, 912507, 411273, 259774, 632853, 119723, 163902, 22691, 402427, 175769, 837260, 603432, 313679, 538165, 549026, 61083, 898345, 992556, 369999, 32847, 891292, 152715, 824104, 234057, 730507, 960529, 388395, 958170, 57105, 186025, 993043, 576770, 215319, 927342, 521353, 39563, 752516, 110755, 309749, 374379, 919184, 990652, 647780, 187177, 168938, 649558, 278126, 162039, 658512, 498115, 896583, 561170, 747772, 775093, 652081, 724905, 499707, 47388, 646668, 571700, 180430, 710015, 435522, 98137, 759176, 486124, 526942, 878921, 408313, 926980, 882353, 566887, 3326, 911981, 416309, 392991, 622829, 148647, 496483, 666314, 48562, 672618, 443676, 274065, 265386, 347668, 31816, 181575, 961289, 365689, 987950, 932299, 27388, 746701, 492258, 147823, 57918, 838849, 678038, 27852, 850241, 818403, 131717, 850216, 904848, 189758, 392845, 470876, 925353, 285431, 454098, 823910, 318493, 766067, 261277, 421530, 694130, 120439, 213308, 854063, 365255, 165437, 662240, 289970, 847977, 546083, 413252, 975829, 361540, 235522, 224643, 736350, 328303, 35022, 307838, 474366, 873755, 73978, 827387, 670830, 326511, 309909, 400970, 884827, 718307, 28462, 599384, 253565, 284009, 343403, 446557, 992372, 961601, 696629, 919537, 894709, 892201, 358160, 448503, 832156, 920045, 926137, 416754, 254422, 92498, 826833, 660716, 689335, 160045, 814642, 969939, 242856, 76302, 472083, 587101, 99066, 498005, 709800, 708000, 20171, 285020, 266564, 981563, 846502, 334, 209268, 9844, 996519, 410059, 432931, 848012, 966803, 983434, 160700, 504374, 832061, 392825, 443842, 440352, 745125, 13718, 661753, 70500, 436952, 424724, 21954, 262490, 716622, 907584, 60086, 837123, 971345, 947162, 139920, 68330, 666452, 731446, 953350, 183157, 845400, 651548, 20399, 861779, 629771, 801706, 189207, 737501, 719272, 479285, 136046, 896746, 891735, 684771, 865309, 379066, 503117, 621780, 209518, 677135, 987500, 197049, 329315, 236756, 357092, 520440, 213471, 956852, 702223, 404943, 178880, 689477, 691351, 866669, 370561, 739805, 71060, 624861, 261660, 366137, 166054, 601878, 153445, 279899, 379166, 423209, 675310, 145641, 691353, 917468, 284778, 81040, 161699, 616394, 767490, 156896, 427408, 254849, 737217, 897133, 203815, 270822, 135854, 778805, 784373, 305426, 733418, 732087, 540668, 702898, 628057, 640280, 422405, 10604, 746038, 839808, 457417, 479030, 341758, 620223, 251661, 561790, 497733, 724201, 489217, 415623, 624610, 847541, 432295, 400391, 961158, 139173, 421225, 579083, 74274, 701142, 374465, 217814, 358972, 88629, 288597, 285819, 538400, 809930, 738326, 955461, 163829, 826475, 376488, 102234, 114650, 52815, 434037, 804744, 98385, 856620, 220057, 844734, 150677, 558697, 621751, 207067, 135297, 932968, 604456, 579728, 244138, 706487, 711627, 853833, 497220, 59428, 564845, 623621, 242689, 125091, 363819, 686453, 656813, 489901, 386380, 542819, 243987, 693412, 488484, 896331, 336730, 728298, 604215, 153729, 595687, 540360, 245779, 924873, 509628, 528523, 3509, 522756, 895447, 44840, 45860, 463487, 398164, 894483, 619415, 966306, 990922, 835756, 548881, 453578, 474993, 80085, 737091, 50789, 979768, 792018, 665001, 86552, 462772, 589233, 891694, 592605, 209645, 42531, 554376, 803814, 334157, 175836, 868379, 658166, 278203, 966198, 627162, 296774, 311803, 843797, 702304, 563875, 33103, 191932, 543514, 506835, 868368, 847025, 678623, 876139, 571997, 598632, 213590, 625404, 726508, 689426, 332495, 411366, 242546, 315209, 797544, 93889, 858879, 124906, 449072, 235960, 642403, 720567, 705534, 603692, 488137, 157370, 63515, 666326, 619226, 443613, 597717, 96225, 86940, 40725, 460976, 268875, 270671, 363254, 384248, 762889, 377941, 278878, 176615, 860008, 944392, 608395, 225283, 45095, 333798, 625733, 995584, 506135, 238050, 557943, 530978, 634244, 177168, 85200, 953043, 523661, 999295, 840803, 961490, 471747, 380705, 911180, 334149, 478992, 325789, 335884, 426976, 749007, 667067, 607586, 674054, 188534, 565185, 172090, 87592, 907432, 8912, 928318, 757917, 718693, 315141, 728326, 353492, 638429, 628892, 877286, 620895, 385878, 423311, 633501, 884833, 883402, 999665, 708395, 548142, 756491, 987352, 766520, 591775, 833758, 843890, 925551, 74816, 646942, 354923, 256291, 634470, 930904, 134221, 282663, 986070, 123636, 123678, 481717, 423076, 866246, 93313, 783632, 317066, 502977, 141272, 71708, 617748, 581190, 193824, 682368, 352956, 351375, 505362, 905165, 128645, 267143, 158409, 482776, 628896, 485233, 563606, 111001, 115920, 365510, 959724, 938763, 930044, 970959, 913658, 68117, 989729, 567697, 820427, 54236, 291557, 124961, 403177, 405421, 410233, 815111, 213176, 83099, 998588, 513640, 129817, 1820, 287584, 299160, 860621, 529258, 586297, 953406, 441234, 986217, 781938, 461247, 735424, 146623, 839838, 510667, 935085, 737523, 303455, 992779, 60240, 939095, 794368, 501825, 459028, 884641, 512287, 835165, 307723, 160587, 735043, 493289, 110717, 306480, 318593, 179810, 200531, 314999, 197020, 301465, 237808, 131944, 882527, 468117, 711319, 156240, 965452, 992756, 437959, 739938, 614249, 391496, 62746, 688215, 75501, 883573, 558824, 759371, 173913, 891351, 727464, 164833, 812317, 540320, 698061, 69149, 471673, 159092, 428134, 89997, 711061, 779403, 203327, 798176, 667688, 636120, 137410, 217615, 556887, 667229, 672276, 325361, 172115, 13846]\n",
            "[525806, 518061, 613712, 530130, 510032, 525320, 714883, 502358, 511029, 575487, 564478, 523163, 515199, 522587, 512126, 503780, 520429, 572629, 511482, 532446, 505504, 534197, 501616, 514935, 511661, 575367, 559696, 503122, 512609, 560102, 504694, 514772, 569402, 505104, 531996, 591871, 508118, 539600, 504251, 518600, 582486, 541775, 534367, 549387, 787777, 529976, 515696, 533289, 610150, 508857, 532117, 663511, 538396, 536157, 604930, 548004, 512452, 511344, 637373, 580103, 549421, 548183, 544123, 515042, 628880, 502692, 674991, 513349, 542826, 523586, 508887, 554881, 549966, 536213, 535550, 652524, 539061, 510590, 575715, 501755, 504795, 540830, 529095, 514472, 528258, 507226, 544839, 690868, 519852, 544641, 510390, 527927, 670983, 504906, 531539, 507276, 538522, 625673, 615157, 527123, 520257, 547206, 502959, 591152, 531507, 522367, 533918, 652665, 654392, 513355, 529903, 508783, 550487, 605332, 599094, 515725, 531421, 501323, 503321, 607450, 519216, 582413, 517155, 563816, 570789, 555322, 527130, 535678, 536306, 529193, 507237, 512408, 507595, 504542, 521348, 531110, 505829, 603796, 513068, 523891, 557409, 523079, 507634, 573564, 527125, 556611, 522139, 563178, 525623, 605270, 576167, 511364, 740712, 531712, 503725, 522477, 780812, 517535, 512100, 517828, 539436, 532237, 522042, 516680, 548735, 521307, 502156, 526277, 508700, 559034, 524025, 508889, 557192, 524008, 526992, 545039, 509458, 609017, 589005, 521481, 502823, 535969, 554022, 553840, 643714, 527958, 506581, 509305, 511584, 549480, 535463, 510253, 523991, 564536, 525990, 525751, 557124, 520626, 542492, 523902, 526817, 557738, 582349, 620858, 549784, 503687, 512225, 526113, 535688, 506927, 685711, 757964, 501586, 573121, 528216, 505604, 502002, 525365, 514675, 578551, 516426, 529945, 510770, 615230, 575959, 671736, 503569, 521605, 503618, 570477, 501809, 509093, 563153, 540216, 510320, 520851, 518104, 502590, 510161, 501222, 520254, 509727, 526348, 511212, 505988, 516779, 609900, 507295, 670909, 509234, 515373, 504851, 501263, 535106, 633667, 509637, 528417, 580377, 632490, 614869, 520859, 519367, 601055, 525093, 569257, 506789, 515114, 519275, 526183, 505655, 505602, 914951, 519259, 579816, 507203, 619442, 506175, 606469, 548388, 536557, 529113, 522925, 620966, 553700, 501310, 538787, 525014, 576968, 511109, 508024, 580667, 553438, 528891, 591322, 501901, 501567, 515483, 502717, 592114, 537272, 568919, 502874, 550247, 509139, 513942, 568143, 554685, 566221, 563093, 512313, 537328, 508777, 522510, 629748, 594545, 525916, 504492, 519213, 532607, 531981, 560399, 549007, 530797, 536075, 506616, 502245, 507208, 535699, 503735, 504132, 544101, 572832, 504225, 535308, 555036, 518038, 591801, 576321, 689944, 536212, 572988, 507402, 519893, 546767, 524394, 523608, 627945, 504798, 501153, 539727, 665404, 505088, 579732, 507997, 559711, 512532, 502340, 537687, 502437, 631806, 570311, 501133, 521664, 563513, 503628, 525666, 653705, 511408, 595770, 547305, 539224, 503952, 501226, 517135, 570017, 574877, 517023, 552016, 576868, 516499, 527486, 504868, 522740, 511647, 510294, 516882, 512824, 527365, 642755, 517204, 522007, 571747, 513617, 532941, 602041, 511070, 528467, 525236, 505604, 535602, 503640, 505459, 522345, 853312, 504248, 534800, 537199, 518651, 581055, 527624, 516044, 641293, 515684, 532187, 552661, 554079, 542358, 667448, 571446, 502320, 540214, 501317, 503440, 677243, 511701, 527969, 581323, 630985, 507333, 515375, 676130, 506828, 508253, 587014, 506834, 504529, 569380, 537217, 529761, 503711, 550877, 531234, 508003, 546112, 510730, 554775, 534289, 514478, 591498, 563949, 506662, 540263, 575872, 516281, 550181, 506933, 523816, 535113, 501767, 540701, 559435, 561577, 512229, 544808, 661330, 547578, 529458, 505819, 617220, 507845, 515791, 545034, 547285, 536363, 505352, 513175, 674699, 520150, 556111, 551093, 542876, 531921, 501160, 502308, 514342, 503945, 504944, 505051, 541097, 531745, 507636, 503924, 503675, 534757, 555966, 605151, 507873, 516371, 514746, 577467, 508425, 501993, 558047, 615517, 529653, 520964, 601543, 527503, 513624, 513716, 698134, 550936, 553891, 501557, 506991, 1190800, 564829, 752610, 501007, 535426, 533188, 506929, 502110, 501486, 577267, 526989, 507640, 537214, 532165, 532492, 511776, 726392, 516312, 619875, 532814, 533973, 692224, 554567, 513264, 504425, 628882, 507412, 501940, 502855, 584021, 621624, 516038, 512481, 502619, 571042, 507045, 516910, 697344, 506331, 518229, 509026, 569512, 512168, 513115, 529045, 585401, 504860, 505067, 514999, 506184, 538702, 527090, 518717, 564775, 515423, 501340, 567613, 544673, 559196, 541226, 525733, 563911, 502490, 514032, 535955, 572152, 514734, 514630, 506128, 539656, 512051, 619441, 518534, 554714, 540160, 575698, 519990, 579501, 551729, 538691, 534125, 515526, 582050, 514627, 504026, 550976, 612235, 576978, 519057, 510661, 578431, 533714, 555884, 512182, 504851, 566051, 553189, 585475, 510111, 509847, 547921, 512375, 512448, 524215, 513996, 518328, 517587, 534204, 746569, 511733, 507293, 530938, 529064, 543090, 518824, 556451, 522696, 527521, 512863, 528217, 534867, 518548, 506953, 533249, 536421, 502319, 584284, 534315, 521501, 617000, 514087, 539219, 562985, 540995, 607424, 550389, 550812, 524385, 508645, 512126, 502535, 576343, 507891, 538987, 599905, 594002, 636341, 533082, 508880, 601905, 506559, 562517, 507078, 580387, 522917, 518719, 565321, 585677, 503404, 519822, 521462, 557813, 513800, 513523, 506674, 527562, 629511, 522486, 518603, 558077, 589591, 540432, 514901, 516594, 528155, 537905, 524052, 557841, 514514, 528271, 504881, 543721, 512647, 519840, 579413, 520398, 524240, 557511, 503730, 526577, 525122, 847707, 525555, 504922, 646067, 644715, 530404, 536654, 504959, 518874, 502129, 501212, 507474, 523618, 531282, 529410, 612879, 512193, 638638, 501620, 509483, 516122, 608694, 530469, 520821, 505072, 520594, 564741, 649269, 523226, 508929, 544042, 572970, 506051, 516520, 551995, 502126, 518387, 549165, 547027, 507118, 514032, 522553, 664910, 568841, 524006, 526794, 506052, 506971, 515342, 505726, 521984, 520198, 563892, 518497, 512738, 514738, 544264, 535302, 558110, 546555, 509219, 604371, 506454, 589666, 531693, 559345, 517454, 513047, 513858, 519870, 528302, 578285, 625730, 516041, 518883, 532186, 520257, 603069, 608450, 651929, 530625, 553508, 553214, 540500, 538137, 510892, 538833, 551890, 572755, 506412, 502967, 519571, 561450, 645728, 544090, 518476, 501037, 526853, 558952, 522972, 524938, 517949, 572616, 609541, 502630, 525484, 500902, 507246, 502312, 529685, 538523, 504275, 544046, 529065, 545133, 543826, 533760, 511582, 516000, 519623, 515599, 569675, 522464, 573988, 608052, 504424, 760841, 503590, 511138, 513153, 546566, 512645, 541647, 517695, 518280, 505672, 518778, 537959, 534113, 517997, 505360, 505416, 500894, 513697, 523667, 511205, 501340, 510705, 520647, 507563, 507108, 503698, 616598, 517187, 541481, 555638, 517942, 503494, 586071, 551304, 501394, 590176, 590164, 528841, 534137, 506145, 604697, 509880, 546304, 527103, 583545, 618938, 518975, 521362, 568382, 515131, 541712, 541905, 526909, 504518, 588188, 553787, 577965, 528754, 518282, 528547, 522574, 595655, 593445, 540237, 502374, 503184, 503520, 501956, 504176, 621790, 501253, 522288, 508163, 634794, 549938, 589646, 536130, 535899, 535417, 508403, 563974, 610879, 500934, 526263, 587733, 921851, 550539, 548820, 506386, 525059, 521017, 502616, 532410, 501386, 509957, 530595, 512277, 581722, 507288, 526494, 503327, 512167, 548204, 501145, 628739, 503174, 509370, 527189, 530798, 505363, 526364, 507499, 547590, 577304, 512300, 527887, 595785, 547772, 546089, 571911, 566799, 546580, 567622, 548487, 559000, 586923, 505449, 530003, 513541, 578628, 502162, 501148, 532715, 512046, 519196, 537356, 626418, 514806, 616091, 505412, 522910, 511061, 573489, 505089, 512693, 576051, 508529, 524243, 514257, 620952, 529694, 577753, 533653, 606608, 513557, 510081, 566155, 509187, 515963, 517833, 584913, 563034, 523038, 515991, 515708, 545187, 573985, 72568]\n"
          ]
        }
      ]
    },
    {
      "cell_type": "code",
      "source": [
        "print(len(exp))\n",
        "print(bases[i])"
      ],
      "metadata": {
        "id": "csS9bl428um6"
      },
      "execution_count": null,
      "outputs": []
    },
    {
      "cell_type": "code",
      "source": [
        "import math\n",
        "largest_index = 0\n",
        "largest = 0\n",
        "for i in range(len(bases)):\n",
        " log = ((math.log(bases[i]))*exp[i])\n",
        " if log > largest:\n",
        "   largest = log\n",
        "   largest_index = i+1\n",
        "\n",
        "print(largest_index)\n",
        "# problem 99"
      ],
      "metadata": {
        "colab": {
          "base_uri": "https://localhost:8080/"
        },
        "id": "TyWkmUr47To0",
        "outputId": "4bd2eb74-7add-48c4-f1e1-debae9512ced"
      },
      "execution_count": null,
      "outputs": [
        {
          "output_type": "stream",
          "name": "stdout",
          "text": [
            "709\n"
          ]
        }
      ]
    },
    {
      "cell_type": "code",
      "source": [
        "#problem 53\n",
        "def nCk(n,k):\n",
        "    m=0\n",
        "    if k==0:\n",
        "        m=1\n",
        "    if k==1:\n",
        "        m=n\n",
        "    if k>=2:\n",
        "        num,dem,op1,op2=1,1,k,n\n",
        "        while(op1>=1):\n",
        "            num*=op2\n",
        "            dem*=op1\n",
        "            op1-=1\n",
        "            op2-=1\n",
        "        m=num//dem\n",
        "    return m\n",
        "total_big = 0\n",
        "for i in range(0,101):\n",
        "  for j in range(i):\n",
        "    comb = (nCk(i,j))\n",
        "    if comb > 1000000:\n",
        "      total_big += 1\n",
        "print(total_big)"
      ],
      "metadata": {
        "colab": {
          "base_uri": "https://localhost:8080/"
        },
        "id": "kErJlp0z-nqI",
        "outputId": "9c3c405b-a230-4bc8-997b-4f259939e2cf"
      },
      "execution_count": null,
      "outputs": [
        {
          "output_type": "stream",
          "name": "stdout",
          "text": [
            "4075\n"
          ]
        }
      ]
    },
    {
      "cell_type": "code",
      "source": [
        "from os import truncate\n",
        "# find number that is divisible by the sum of its digts, \n",
        "# when divided by its digits you get a prime\n",
        "# the original number is prime\n",
        "# find number truncuated to the right where the number is divisible by the sum of digits\n",
        "# e.g. 201 is divisible by sum of digits, 20 is divisble by sum of digits, 2 is divisible by sum of digits\n",
        "# find the sum of all the numbers below 10^14 where this is true\n",
        "def prime_checker(number):\n",
        "  isPrime = True\n",
        "  for num in range(2, int(number ** 0.5) + 1):\n",
        "    if number % num == 0:\n",
        "      isPrime = False\n",
        "      return False\n",
        "      break\n",
        "  return True\n",
        "\n",
        "def harshad(number):\n",
        "  num_sum = 0\n",
        "  for i in range(len(str(number))):\n",
        "    num_sum += int(str(number)[i])\n",
        "  if number % num_sum == 0:\n",
        "    return True\n",
        "\n",
        "def strong(number):\n",
        "  num_sum = 0\n",
        "  for i in range(len(str(number))):\n",
        "    num_sum += int(str(number)[i])\n",
        "  if prime_checker(number % num_sum):\n",
        "    return True\n",
        "\n",
        "\n",
        "def truncuate(number):\n",
        "  all_trunc = []\n",
        "  for i in range(len(str(number))-1):\n",
        "    all_trunc.append(int(str(number)[:i+1]))\n",
        "    \n",
        "  return all_trunc\n",
        "\n",
        "print(truncuate(243))\n",
        "\n"
      ],
      "metadata": {
        "colab": {
          "base_uri": "https://localhost:8080/"
        },
        "id": "gT3Q1KnfBJW9",
        "outputId": "70c4f4ab-c7b8-4812-d9ba-a4e34b0ef63f"
      },
      "execution_count": null,
      "outputs": [
        {
          "output_type": "stream",
          "name": "stdout",
          "text": [
            "[2, 24]\n"
          ]
        }
      ]
    },
    {
      "cell_type": "code",
      "source": [
        "print(strong(201))"
      ],
      "metadata": {
        "colab": {
          "base_uri": "https://localhost:8080/"
        },
        "id": "5VH41QJLFKAp",
        "outputId": "f0785118-1edc-4fb8-8c6c-e51149c887cc"
      },
      "execution_count": null,
      "outputs": [
        {
          "output_type": "stream",
          "name": "stdout",
          "text": [
            "True\n"
          ]
        }
      ]
    },
    {
      "cell_type": "code",
      "source": [
        "# logic, find all numbers of a certain perameter, then put them to another loop\n",
        "max = 10000\n",
        "harshad_nums = []\n",
        "for i in range(1,max):\n",
        "  if harshad(i):\n",
        "    harshad_nums.append(i)\n",
        "\n",
        "trunc_harshad = []\n",
        "for i in range(len(harshad_nums)):\n",
        "  x = truncuate(harshad_nums[i])\n",
        "  y = True\n",
        "  for j in range(len(x)):\n",
        "    if harshad(x[j]):\n",
        "      continue\n",
        "    else:\n",
        "      y = False\n",
        "  if y == True:\n",
        "    trunc_harshad.append(harshad_nums[i])\n",
        "\n",
        "strong = []\n",
        "for i in range(len(trunc_harshad)):\n",
        "  if strong(trunc_harshad[i]):\n",
        "    strong.append(trunc_harshad[i])\n",
        "\n",
        "print(trunc_harshad)\n",
        "print(primes)"
      ],
      "metadata": {
        "id": "UW_1qYPBHeC1"
      },
      "execution_count": null,
      "outputs": []
    },
    {
      "cell_type": "code",
      "source": [
        "def miller_rabin(n, k):\n",
        "\n",
        "    # Implementation uses the Miller-Rabin Primality Test\n",
        "    # The optimal number of rounds for this test is 40\n",
        "    # See http://stackoverflow.com/questions/6325576/how-many-iterations-of-rabin-miller-should-i-use-for-cryptographic-safe-primes\n",
        "    # for justification\n",
        "\n",
        "    # If number is even, it's a composite number\n",
        "\n",
        "    if n == 2:\n",
        "        return True\n",
        "\n",
        "    if n % 2 == 0:\n",
        "        return False\n",
        "\n",
        "    r, s = 0, n - 1\n",
        "    while s % 2 == 0:\n",
        "        r += 1\n",
        "        s //= 2\n",
        "    for _ in xrange(k):\n",
        "        a = random.randrange(2, n - 1)\n",
        "        x = pow(a, s, n)\n",
        "        if x == 1 or x == n - 1:\n",
        "            continue\n",
        "        for _ in xrange(r - 1):\n",
        "            x = pow(x, 2, n)\n",
        "            if x == n - 1:\n",
        "                break\n",
        "        else:\n",
        "            return False\n",
        "    return True\n",
        "\n",
        "print(miller_rabin(428902489,8931893189138931))"
      ],
      "metadata": {
        "id": "zSyn0vu3HyCq"
      },
      "execution_count": null,
      "outputs": []
    },
    {
      "cell_type": "code",
      "source": [
        "def formula(n):\n",
        "  return (n**2 + n + 41)\n",
        "\n",
        "def formula2(n):\n",
        "  return (n**2 -79*n + 1601)\n",
        "\n",
        "for i in range(0,80):\n",
        "  print(formula2(i))"
      ],
      "metadata": {
        "id": "FV5MdjFyKflB"
      },
      "execution_count": null,
      "outputs": []
    },
    {
      "cell_type": "code",
      "source": [
        "def sqrt(n):\n",
        "    \"Integer square root\"\n",
        "    assert isinstance(n, int)\n",
        "    x = n\n",
        "    y = (x + 1) // 2\n",
        "    while y < x:\n",
        "        x = y\n",
        "        y = (x + n // x) // 2\n",
        "    return x\n",
        "\n",
        "def is_pentagonal(n: int):\n",
        "    \"\"\"Check if a number is pentagonal.\n",
        "    Ref: https://en.wikipedia.org/wiki/Pentagonal_number\"\"\"\n",
        "\n",
        "    k = 24 * n + 1\n",
        "    sqrt_k = sqrt(k)\n",
        "\n",
        "    if sqrt_k * sqrt_k == k and (sqrt_k + 1) % 6 == 0:\n",
        "        return True\n",
        "    else:\n",
        "        return False"
      ],
      "metadata": {
        "id": "evasYiZVL7aj"
      },
      "execution_count": null,
      "outputs": []
    },
    {
      "cell_type": "code",
      "source": [
        "# find the pair of pentagon numbers where their sum and their difference is pentagonal\n",
        "# \n",
        "def pentagon(number):\n",
        "  return int(number*(3*number -1)/2)\n",
        "pentagon_li = []\n",
        "\n",
        "for i in range(5000):\n",
        "  pentagon_li.append(pentagon(i))\n",
        "pentagon_li = pentagon_li[1:]\n"
      ],
      "metadata": {
        "id": "WBD71joKMcUc"
      },
      "execution_count": null,
      "outputs": []
    },
    {
      "cell_type": "code",
      "source": [
        "for i in pentagon_li:\n",
        "  for j in pentagon_li:\n",
        "    if is_pentagonal(abs(i-j)) and is_pentagonal(j+i):\n",
        "      print(i,j)"
      ],
      "metadata": {
        "id": "S3Ul2n_LN8Or"
      },
      "execution_count": null,
      "outputs": []
    },
    {
      "cell_type": "code",
      "source": [
        "print(1560090-7042750)"
      ],
      "metadata": {
        "colab": {
          "base_uri": "https://localhost:8080/"
        },
        "id": "PoqNcV7sQOO4",
        "outputId": "2e9e5a6b-d46f-4838-83f8-fc2691fdb4f4"
      },
      "execution_count": null,
      "outputs": [
        {
          "output_type": "stream",
          "name": "stdout",
          "text": [
            "-5482660\n"
          ]
        }
      ]
    },
    {
      "cell_type": "code",
      "source": [
        "squares = []\n",
        "for i in range(1,1000):\n",
        "  squares.append(i**2)\n",
        "primes\n",
        "\n",
        "def prime_gen(givennumber):\n",
        "    primes = []\n",
        "    total = 0\n",
        "    for possiblePrime in range(2, givennumber + 1):\n",
        "        # Assume number is prime until shown it is not.\n",
        "        isPrime = True\n",
        "        for num in range(2, int(possiblePrime ** 0.5) + 1):\n",
        "            if possiblePrime % num == 0:\n",
        "                isPrime = False\n",
        "                break\n",
        "        if isPrime:\n",
        "            total += possiblePrime\n",
        "            primes.append(possiblePrime)\n",
        "\n",
        "    return primes\n",
        "\n",
        "primes = prime_gen(100000)\n",
        "print(primes[-1])"
      ],
      "metadata": {
        "colab": {
          "base_uri": "https://localhost:8080/"
        },
        "id": "HgbOV_TnQWfK",
        "outputId": "be320d49-3a91-4669-b010-8ea2a4356121"
      },
      "execution_count": null,
      "outputs": [
        {
          "output_type": "stream",
          "name": "stdout",
          "text": [
            "99991\n"
          ]
        }
      ]
    },
    {
      "cell_type": "code",
      "source": [
        "def primefactors(n):\n",
        "   #even number divisible\n",
        "   while n % 2 == 0:\n",
        "      print (2),\n",
        "      n = n / 2\n",
        "    \n",
        "   #n became odd\n",
        "   for i in range(3,int(n**1/2)+1,2):\n",
        "     \n",
        "      while (n % i == 0):\n",
        "         print (i)\n",
        "         n = n / i\n",
        "    \n",
        "   if n > 2:\n",
        "      print (n)\n",
        "\n",
        "primefactors(1982300310)"
      ],
      "metadata": {
        "id": "YBE9FjqoSD-L"
      },
      "execution_count": null,
      "outputs": []
    },
    {
      "cell_type": "code",
      "source": [
        "# Python program to find sum of given\n",
        "# series.\n",
        "  \n",
        "def productPrimeFactors(n):\n",
        "    product = 1\n",
        "      \n",
        "    for i in range(2, n+1):\n",
        "        if (n % i == 0):\n",
        "            isPrime = 1\n",
        "              \n",
        "            for j in range(2, int(i/2 + 1)):\n",
        "                if (i % j == 0):\n",
        "                    isPrime = 0\n",
        "                    break\n",
        "                  \n",
        "            # condition if \\'i\\' is Prime number\n",
        "            # as well as factor of num\n",
        "            if (isPrime):\n",
        "                product = product * i\n",
        "                  \n",
        "    return product  \n",
        "      \n",
        "      \n",
        "      \n",
        "# main()\n",
        "n = 44\n",
        "print (productPrimeFactors(n))"
      ],
      "metadata": {
        "id": "yqnzFtuASxK1",
        "outputId": "46d80897-31fb-481d-90b8-c99730590a7f",
        "colab": {
          "base_uri": "https://localhost:8080/"
        }
      },
      "execution_count": null,
      "outputs": [
        {
          "output_type": "stream",
          "name": "stdout",
          "text": [
            "22\n"
          ]
        }
      ]
    }
  ]
}
